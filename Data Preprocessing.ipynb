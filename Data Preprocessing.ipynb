{
 "cells": [
  {
   "cell_type": "markdown",
   "id": "89725666",
   "metadata": {},
   "source": [
    "1. Missing values : Drop or Replace\n",
    "    * mean\n",
    "    * simpleimputer\n",
    "    ```\n",
    "    imputer = SimpleImputer(strategy='mean')\n",
    "    imputer.fit(data['bmi'].values.reshape(-1, 1))\n",
    "    data['bmi'] = imputer.transform(data['bmi'].values.reshape(-1, 1))\n",
    "    ```\n",
    "    * drop rows\n",
    "    ```\n",
    "    data.dropna(inplace=True)\n",
    "    data.reset_index(drop=True, inplace=True)\n",
    "    ```"
   ]
  },
  {
   "cell_type": "code",
   "execution_count": 16,
   "id": "cadb2042",
   "metadata": {},
   "outputs": [],
   "source": [
    "import pandas as pd\n",
    "import numpy as np\n",
    "from sklearn.model_selection import train_test_split\n",
    "from sklearn.impute import SimpleImputer\n",
    "import matplotlib.pyplot as plt\n",
    "import seaborn as sns"
   ]
  },
  {
   "cell_type": "code",
   "execution_count": 4,
   "id": "6414ffbf",
   "metadata": {},
   "outputs": [
    {
     "data": {
      "text/html": [
       "<div>\n",
       "<style scoped>\n",
       "    .dataframe tbody tr th:only-of-type {\n",
       "        vertical-align: middle;\n",
       "    }\n",
       "\n",
       "    .dataframe tbody tr th {\n",
       "        vertical-align: top;\n",
       "    }\n",
       "\n",
       "    .dataframe thead th {\n",
       "        text-align: right;\n",
       "    }\n",
       "</style>\n",
       "<table border=\"1\" class=\"dataframe\">\n",
       "  <thead>\n",
       "    <tr style=\"text-align: right;\">\n",
       "      <th></th>\n",
       "      <th>age</th>\n",
       "      <th>sex</th>\n",
       "      <th>bmi</th>\n",
       "      <th>children</th>\n",
       "      <th>smoker</th>\n",
       "      <th>region</th>\n",
       "      <th>charges</th>\n",
       "    </tr>\n",
       "  </thead>\n",
       "  <tbody>\n",
       "    <tr>\n",
       "      <th>0</th>\n",
       "      <td>19</td>\n",
       "      <td>female</td>\n",
       "      <td>27.900</td>\n",
       "      <td>0</td>\n",
       "      <td>yes</td>\n",
       "      <td>southwest</td>\n",
       "      <td>16884.92400</td>\n",
       "    </tr>\n",
       "    <tr>\n",
       "      <th>1</th>\n",
       "      <td>18</td>\n",
       "      <td>male</td>\n",
       "      <td>33.770</td>\n",
       "      <td>1</td>\n",
       "      <td>no</td>\n",
       "      <td>southeast</td>\n",
       "      <td>1725.55230</td>\n",
       "    </tr>\n",
       "    <tr>\n",
       "      <th>2</th>\n",
       "      <td>28</td>\n",
       "      <td>male</td>\n",
       "      <td>33.000</td>\n",
       "      <td>3</td>\n",
       "      <td>no</td>\n",
       "      <td>southeast</td>\n",
       "      <td>4449.46200</td>\n",
       "    </tr>\n",
       "    <tr>\n",
       "      <th>3</th>\n",
       "      <td>33</td>\n",
       "      <td>male</td>\n",
       "      <td>22.705</td>\n",
       "      <td>0</td>\n",
       "      <td>no</td>\n",
       "      <td>northwest</td>\n",
       "      <td>21984.47061</td>\n",
       "    </tr>\n",
       "    <tr>\n",
       "      <th>4</th>\n",
       "      <td>32</td>\n",
       "      <td>male</td>\n",
       "      <td>28.880</td>\n",
       "      <td>0</td>\n",
       "      <td>no</td>\n",
       "      <td>northwest</td>\n",
       "      <td>3866.85520</td>\n",
       "    </tr>\n",
       "  </tbody>\n",
       "</table>\n",
       "</div>"
      ],
      "text/plain": [
       "   age     sex     bmi  children smoker     region      charges\n",
       "0   19  female  27.900         0    yes  southwest  16884.92400\n",
       "1   18    male  33.770         1     no  southeast   1725.55230\n",
       "2   28    male  33.000         3     no  southeast   4449.46200\n",
       "3   33    male  22.705         0     no  northwest  21984.47061\n",
       "4   32    male  28.880         0     no  northwest   3866.85520"
      ]
     },
     "execution_count": 4,
     "metadata": {},
     "output_type": "execute_result"
    }
   ],
   "source": [
    "df = pd.read_csv('./Ex_Files_Python_Predictive_Analytics/Exercise Files/Datasets/insurance.csv')\n",
    "df.head()"
   ]
  },
  {
   "cell_type": "code",
   "execution_count": 6,
   "id": "cd58c874",
   "metadata": {},
   "outputs": [
    {
     "data": {
      "text/plain": [
       "age         0\n",
       "sex         0\n",
       "bmi         5\n",
       "children    0\n",
       "smoker      0\n",
       "region      0\n",
       "charges     0\n",
       "dtype: int64"
      ]
     },
     "execution_count": 6,
     "metadata": {},
     "output_type": "execute_result"
    }
   ],
   "source": [
    "df.isnull().sum()"
   ]
  },
  {
   "cell_type": "code",
   "execution_count": 8,
   "id": "0c17fc7a",
   "metadata": {},
   "outputs": [
    {
     "data": {
      "text/html": [
       "<div>\n",
       "<style scoped>\n",
       "    .dataframe tbody tr th:only-of-type {\n",
       "        vertical-align: middle;\n",
       "    }\n",
       "\n",
       "    .dataframe tbody tr th {\n",
       "        vertical-align: top;\n",
       "    }\n",
       "\n",
       "    .dataframe thead th {\n",
       "        text-align: right;\n",
       "    }\n",
       "</style>\n",
       "<table border=\"1\" class=\"dataframe\">\n",
       "  <thead>\n",
       "    <tr style=\"text-align: right;\">\n",
       "      <th></th>\n",
       "      <th>age</th>\n",
       "      <th>sex</th>\n",
       "      <th>bmi</th>\n",
       "      <th>children</th>\n",
       "      <th>smoker</th>\n",
       "      <th>region</th>\n",
       "      <th>charges</th>\n",
       "    </tr>\n",
       "  </thead>\n",
       "  <tbody>\n",
       "    <tr>\n",
       "      <th>14</th>\n",
       "      <td>27</td>\n",
       "      <td>male</td>\n",
       "      <td>NaN</td>\n",
       "      <td>0</td>\n",
       "      <td>yes</td>\n",
       "      <td>southeast</td>\n",
       "      <td>39611.75770</td>\n",
       "    </tr>\n",
       "    <tr>\n",
       "      <th>271</th>\n",
       "      <td>50</td>\n",
       "      <td>male</td>\n",
       "      <td>NaN</td>\n",
       "      <td>2</td>\n",
       "      <td>yes</td>\n",
       "      <td>southwest</td>\n",
       "      <td>42856.83800</td>\n",
       "    </tr>\n",
       "    <tr>\n",
       "      <th>421</th>\n",
       "      <td>61</td>\n",
       "      <td>male</td>\n",
       "      <td>NaN</td>\n",
       "      <td>0</td>\n",
       "      <td>yes</td>\n",
       "      <td>southeast</td>\n",
       "      <td>46599.10840</td>\n",
       "    </tr>\n",
       "    <tr>\n",
       "      <th>545</th>\n",
       "      <td>49</td>\n",
       "      <td>male</td>\n",
       "      <td>NaN</td>\n",
       "      <td>2</td>\n",
       "      <td>yes</td>\n",
       "      <td>northwest</td>\n",
       "      <td>23807.24060</td>\n",
       "    </tr>\n",
       "    <tr>\n",
       "      <th>727</th>\n",
       "      <td>29</td>\n",
       "      <td>female</td>\n",
       "      <td>NaN</td>\n",
       "      <td>1</td>\n",
       "      <td>yes</td>\n",
       "      <td>northeast</td>\n",
       "      <td>16657.71745</td>\n",
       "    </tr>\n",
       "  </tbody>\n",
       "</table>\n",
       "</div>"
      ],
      "text/plain": [
       "     age     sex  bmi  children smoker     region      charges\n",
       "14    27    male  NaN         0    yes  southeast  39611.75770\n",
       "271   50    male  NaN         2    yes  southwest  42856.83800\n",
       "421   61    male  NaN         0    yes  southeast  46599.10840\n",
       "545   49    male  NaN         2    yes  northwest  23807.24060\n",
       "727   29  female  NaN         1    yes  northeast  16657.71745"
      ]
     },
     "execution_count": 8,
     "metadata": {},
     "output_type": "execute_result"
    }
   ],
   "source": [
    "df[df['bmi'].isnull()]"
   ]
  },
  {
   "cell_type": "code",
   "execution_count": 11,
   "id": "29bdae73",
   "metadata": {},
   "outputs": [],
   "source": [
    "df['bmi'].fillna(df['bmi'].mean(),inplace=True)"
   ]
  },
  {
   "cell_type": "code",
   "execution_count": 12,
   "id": "9c2e5acb",
   "metadata": {},
   "outputs": [
    {
     "data": {
      "text/plain": [
       "age         0\n",
       "sex         0\n",
       "bmi         0\n",
       "children    0\n",
       "smoker      0\n",
       "region      0\n",
       "charges     0\n",
       "dtype: int64"
      ]
     },
     "execution_count": 12,
     "metadata": {},
     "output_type": "execute_result"
    }
   ],
   "source": [
    "df.isnull().sum()"
   ]
  },
  {
   "cell_type": "code",
   "execution_count": 13,
   "id": "fb9f47a3",
   "metadata": {},
   "outputs": [
    {
     "data": {
      "text/plain": [
       "30.65854463615904"
      ]
     },
     "execution_count": 13,
     "metadata": {},
     "output_type": "execute_result"
    }
   ],
   "source": [
    "df['bmi'].mean()"
   ]
  },
  {
   "cell_type": "code",
   "execution_count": 15,
   "id": "ccb9ca23",
   "metadata": {},
   "outputs": [
    {
     "data": {
      "text/plain": [
       "(array([536., 398., 129.,  86.,  35.,  59.,  57.,  32.,   2.,   4.]),\n",
       " array([ 1121.8739  ,  7386.729311, 13651.584722, 19916.440133,\n",
       "        26181.295544, 32446.150955, 38711.006366, 44975.861777,\n",
       "        51240.717188, 57505.572599, 63770.42801 ]),\n",
       " <BarContainer object of 10 artists>)"
      ]
     },
     "execution_count": 15,
     "metadata": {},
     "output_type": "execute_result"
    },
    {
     "data": {
      "image/png": "[encoded data removed]",
      "text/plain": [
       "<Figure size 432x288 with 1 Axes>"
      ]
     },
     "metadata": {
      "needs_background": "light"
     },
     "output_type": "display_data"
    }
   ],
   "source": [
    "plt.hist(df['charges'])\n",
    "\n"
   ]
  },
  {
   "cell_type": "code",
   "execution_count": 18,
   "id": "de516296",
   "metadata": {},
   "outputs": [
    {
     "data": {
      "text/plain": [
       "<AxesSubplot:>"
      ]
     },
     "execution_count": 18,
     "metadata": {},
     "output_type": "execute_result"
    },
    {
     "data": {
      "image/png": "[encoded data removed]",
      "text/plain": [
       "<Figure size 432x288 with 2 Axes>"
      ]
     },
     "metadata": {
      "needs_background": "light"
     },
     "output_type": "display_data"
    }
   ],
   "source": [
    "sns.heatmap(df.corr(),annot=True)"
   ]
  },
  {
   "cell_type": "markdown",
   "id": "1b8feca3",
   "metadata": {},
   "source": [
    "2. Convert Categorical to Numerical\n",
    "    * Label Encoding - two distinct values\n",
    "    ```\n",
    "    sklearn: LabelEncoder\n",
    "    pandas: factorize()\n",
    "    ```\n",
    "    * One hot encoding - three or more distinct values\n",
    "    ```\n",
    "    sklearn: OneHotEncoder\n",
    "    pandas: get_dummies\n",
    "    ```\n",
    "     * Pandas\n",
    "     ```\n",
    "     #option0: pandas factorizing: maps each category to a different integer = label encoder \n",
    "\n",
    "    #create series for pandas\n",
    "\n",
    "    region = data[\"region\"] # series \n",
    "    region_encoded, region_categories = pd.factorize(region)\n",
    "    factor_region_mapping = dict(zip(region_categories, region_encoded)) #mapping of encoded numbers and original categories. \n",
    "\n",
    "    print(\"Pandas factorize function for label encoding with series\")  \n",
    "    print(region[:10]) #original version \n",
    "    print(region_categories) #list of categories\n",
    "    print(region_encoded[:10]) #encoded numbers for categories \n",
    "    print(factor_region_mapping) # print factor mapping\n",
    "\n",
    "    #option1: pandas get_dummies: maps each category to 0 (cold) or 1 (hot) = one hot encoder \n",
    "\n",
    "    #create series for pandas\n",
    "    region = data[\"region\"] # series \n",
    "    region_encoded = pd.get_dummies(region, prefix='')\n",
    "\n",
    "    print(\"Pandas get_dummies function for one hot encoding with series\")  \n",
    "\n",
    "    print(region[:10]) #original version \n",
    "    print(region_encoded[:10]) #encoded numbers for categories \n",
    "\n",
    "     ```"
   ]
  },
  {
   "cell_type": "code",
   "execution_count": 47,
   "id": "cebf29f7",
   "metadata": {},
   "outputs": [],
   "source": [
    "from sklearn.preprocessing import LabelEncoder\n",
    "from sklearn.preprocessing import OneHotEncoder"
   ]
  },
  {
   "cell_type": "code",
   "execution_count": 22,
   "id": "56128b37",
   "metadata": {},
   "outputs": [
    {
     "data": {
      "text/html": [
       "<div>\n",
       "<style scoped>\n",
       "    .dataframe tbody tr th:only-of-type {\n",
       "        vertical-align: middle;\n",
       "    }\n",
       "\n",
       "    .dataframe tbody tr th {\n",
       "        vertical-align: top;\n",
       "    }\n",
       "\n",
       "    .dataframe thead th {\n",
       "        text-align: right;\n",
       "    }\n",
       "</style>\n",
       "<table border=\"1\" class=\"dataframe\">\n",
       "  <thead>\n",
       "    <tr style=\"text-align: right;\">\n",
       "      <th></th>\n",
       "      <th>age</th>\n",
       "      <th>sex</th>\n",
       "      <th>bmi</th>\n",
       "      <th>children</th>\n",
       "      <th>smoker</th>\n",
       "      <th>region</th>\n",
       "      <th>charges</th>\n",
       "    </tr>\n",
       "  </thead>\n",
       "  <tbody>\n",
       "    <tr>\n",
       "      <th>0</th>\n",
       "      <td>19</td>\n",
       "      <td>female</td>\n",
       "      <td>27.900</td>\n",
       "      <td>0</td>\n",
       "      <td>yes</td>\n",
       "      <td>southwest</td>\n",
       "      <td>16884.92400</td>\n",
       "    </tr>\n",
       "    <tr>\n",
       "      <th>1</th>\n",
       "      <td>18</td>\n",
       "      <td>male</td>\n",
       "      <td>33.770</td>\n",
       "      <td>1</td>\n",
       "      <td>no</td>\n",
       "      <td>southeast</td>\n",
       "      <td>1725.55230</td>\n",
       "    </tr>\n",
       "    <tr>\n",
       "      <th>2</th>\n",
       "      <td>28</td>\n",
       "      <td>male</td>\n",
       "      <td>33.000</td>\n",
       "      <td>3</td>\n",
       "      <td>no</td>\n",
       "      <td>southeast</td>\n",
       "      <td>4449.46200</td>\n",
       "    </tr>\n",
       "    <tr>\n",
       "      <th>3</th>\n",
       "      <td>33</td>\n",
       "      <td>male</td>\n",
       "      <td>22.705</td>\n",
       "      <td>0</td>\n",
       "      <td>no</td>\n",
       "      <td>northwest</td>\n",
       "      <td>21984.47061</td>\n",
       "    </tr>\n",
       "    <tr>\n",
       "      <th>4</th>\n",
       "      <td>32</td>\n",
       "      <td>male</td>\n",
       "      <td>28.880</td>\n",
       "      <td>0</td>\n",
       "      <td>no</td>\n",
       "      <td>northwest</td>\n",
       "      <td>3866.85520</td>\n",
       "    </tr>\n",
       "  </tbody>\n",
       "</table>\n",
       "</div>"
      ],
      "text/plain": [
       "   age     sex     bmi  children smoker     region      charges\n",
       "0   19  female  27.900         0    yes  southwest  16884.92400\n",
       "1   18    male  33.770         1     no  southeast   1725.55230\n",
       "2   28    male  33.000         3     no  southeast   4449.46200\n",
       "3   33    male  22.705         0     no  northwest  21984.47061\n",
       "4   32    male  28.880         0     no  northwest   3866.85520"
      ]
     },
     "execution_count": 22,
     "metadata": {},
     "output_type": "execute_result"
    }
   ],
   "source": [
    "df.head()"
   ]
  },
  {
   "cell_type": "code",
   "execution_count": 23,
   "id": "cd0af61f",
   "metadata": {},
   "outputs": [],
   "source": [
    "sex = df.loc[:,'sex'].values\n",
    "smoker = df.loc[:,'smoker'].values"
   ]
  },
  {
   "cell_type": "code",
   "execution_count": 25,
   "id": "b2c66e8a",
   "metadata": {},
   "outputs": [],
   "source": [
    "le = LabelEncoder()\n"
   ]
  },
  {
   "cell_type": "code",
   "execution_count": 28,
   "id": "9b42df7d",
   "metadata": {},
   "outputs": [
    {
     "name": "stderr",
     "output_type": "stream",
     "text": [
      "C:\\Python310\\lib\\site-packages\\sklearn\\preprocessing\\_label.py:115: DataConversionWarning: A column-vector y was passed when a 1d array was expected. Please change the shape of y to (n_samples, ), for example using ravel().\n",
      "  y = column_or_1d(y, warn=True)\n"
     ]
    }
   ],
   "source": [
    "sex = le.fit_transform(sex)"
   ]
  },
  {
   "cell_type": "code",
   "execution_count": 42,
   "id": "696f69ba",
   "metadata": {},
   "outputs": [
    {
     "data": {
      "text/plain": [
       "{'female': 0, 'male': 1}"
      ]
     },
     "execution_count": 42,
     "metadata": {},
     "output_type": "execute_result"
    }
   ],
   "source": [
    "dict(zip(le.classes_,le.transform(le.classes_)))"
   ]
  },
  {
   "cell_type": "code",
   "execution_count": 97,
   "id": "007c68e0",
   "metadata": {},
   "outputs": [],
   "source": [
    "smker = le.fit_transform(smoker)"
   ]
  },
  {
   "cell_type": "code",
   "execution_count": 98,
   "id": "17f49956",
   "metadata": {},
   "outputs": [
    {
     "data": {
      "text/plain": [
       "{'no': 0, 'yes': 1}"
      ]
     },
     "execution_count": 98,
     "metadata": {},
     "output_type": "execute_result"
    }
   ],
   "source": [
    "dict(zip(le.classes_,le.transform(le.classes_)))"
   ]
  },
  {
   "cell_type": "code",
   "execution_count": 58,
   "id": "51e4585e",
   "metadata": {},
   "outputs": [],
   "source": [
    "region = df.loc[:,'region'].values"
   ]
  },
  {
   "cell_type": "code",
   "execution_count": 59,
   "id": "89f5b887",
   "metadata": {},
   "outputs": [],
   "source": [
    "he = OneHotEncoder()"
   ]
  },
  {
   "cell_type": "code",
   "execution_count": 62,
   "id": "e11acd98",
   "metadata": {},
   "outputs": [],
   "source": [
    "region = he.fit_transform(region.reshape(-1,1)).toarray()"
   ]
  },
  {
   "cell_type": "code",
   "execution_count": 92,
   "id": "246c9f5e",
   "metadata": {},
   "outputs": [],
   "source": [
    "region = pd.DataFrame(region,columns=he.categories_[0])"
   ]
  },
  {
   "cell_type": "markdown",
   "id": "c1f885ad",
   "metadata": {},
   "source": [
    "3. Train and Test\n",
    "    * Train Data 2/3 : Data used to train prediction model , build model\n",
    "    * Test Data 1/3 : Data used to test prediction model , measure success of the model\n",
    "    * dimensionality reduction to reduce process time "
   ]
  },
  {
   "cell_type": "code",
   "execution_count": 81,
   "id": "1ff1c420",
   "metadata": {},
   "outputs": [],
   "source": [
    "X_num = df[['age','bmi','children']]"
   ]
  },
  {
   "cell_type": "code",
   "execution_count": 100,
   "id": "bb5d1b4c",
   "metadata": {},
   "outputs": [],
   "source": [
    "X_final = pd.concat([X_num, pd.DataFrame(sex,columns=['sex']), pd.DataFrame(smker,columns=['smoker']), region],axis=1)"
   ]
  },
  {
   "cell_type": "code",
   "execution_count": 102,
   "id": "bd078b4b",
   "metadata": {},
   "outputs": [],
   "source": [
    "y_final = df['charges']"
   ]
  },
  {
   "cell_type": "code",
   "execution_count": 103,
   "id": "3e3e1829",
   "metadata": {},
   "outputs": [],
   "source": [
    "from sklearn.model_selection import train_test_split"
   ]
  },
  {
   "cell_type": "code",
   "execution_count": 104,
   "id": "2bfe19d0",
   "metadata": {},
   "outputs": [],
   "source": [
    "X_train, X_test, y_train, y_test = train_test_split(X_final,y_final,test_size=0.33,random_state=0)"
   ]
  },
  {
   "cell_type": "markdown",
   "id": "825a8aa2",
   "metadata": {},
   "source": [
    "4. Feature Scaling\n",
    "    * prevent larger magnitude from dominating, dilute the bias\n",
    "    * normalization and standardization for x value \n",
    "    * normalization @ min max scaling i.e effected by outlier\n",
    "    \n",
    "        $\\text{z} = \\frac{x - min(x)}{[max(x)-min(x)]} $\n",
    "    * standardization i.e less effected by outlier\n",
    "    \n",
    "        $\\text{z} = \\frac{x - \\mu}{\\sigma}$\n"
   ]
  },
  {
   "cell_type": "code",
   "execution_count": 133,
   "id": "81ead7f9",
   "metadata": {},
   "outputs": [],
   "source": [
    "from sklearn.preprocessing import MinMaxScaler\n",
    "from sklearn.preprocessing import StandardScaler"
   ]
  },
  {
   "cell_type": "code",
   "execution_count": 124,
   "id": "c5e809e5",
   "metadata": {},
   "outputs": [],
   "source": [
    "df = pd.read_excel('Ex_Files_Python_Predictive_Analytics/Exercise Files/01_06/01_06_Begin.xlsx',\n",
    "              usecols=['Student Ages'],\n",
    "             )"
   ]
  },
  {
   "cell_type": "code",
   "execution_count": 126,
   "id": "df021ddd",
   "metadata": {},
   "outputs": [],
   "source": [
    "df.dropna(inplace=True)"
   ]
  },
  {
   "cell_type": "code",
   "execution_count": 129,
   "id": "6a4662e3",
   "metadata": {},
   "outputs": [],
   "source": [
    "df['normalization'] = df['Student Ages'].apply(lambda x: (x - min(df['Student Ages']))/abs(max(df['Student Ages']) - min(df['Student Ages']) ))"
   ]
  },
  {
   "cell_type": "code",
   "execution_count": 130,
   "id": "4ac6145d",
   "metadata": {},
   "outputs": [],
   "source": [
    "df['standardization'] = df['Student Ages'].apply(lambda x:\n",
    "                                                 (x - df['Student Ages'].mean())/df['Student Ages'].std()\n",
    "                                                )"
   ]
  },
  {
   "cell_type": "code",
   "execution_count": 111,
   "id": "9737812d",
   "metadata": {},
   "outputs": [],
   "source": [
    "# !pip install openpyxl"
   ]
  },
  {
   "cell_type": "code",
   "execution_count": 132,
   "id": "aaba0e0a",
   "metadata": {},
   "outputs": [
    {
     "data": {
      "text/html": [
       "<div>\n",
       "<style scoped>\n",
       "    .dataframe tbody tr th:only-of-type {\n",
       "        vertical-align: middle;\n",
       "    }\n",
       "\n",
       "    .dataframe tbody tr th {\n",
       "        vertical-align: top;\n",
       "    }\n",
       "\n",
       "    .dataframe thead th {\n",
       "        text-align: right;\n",
       "    }\n",
       "</style>\n",
       "<table border=\"1\" class=\"dataframe\">\n",
       "  <thead>\n",
       "    <tr style=\"text-align: right;\">\n",
       "      <th></th>\n",
       "      <th>Student Ages</th>\n",
       "      <th>normalization</th>\n",
       "      <th>standardization</th>\n",
       "    </tr>\n",
       "  </thead>\n",
       "  <tbody>\n",
       "    <tr>\n",
       "      <th>0</th>\n",
       "      <td>23.0</td>\n",
       "      <td>0.169811</td>\n",
       "      <td>-0.326894</td>\n",
       "    </tr>\n",
       "    <tr>\n",
       "      <th>1</th>\n",
       "      <td>21.0</td>\n",
       "      <td>0.132075</td>\n",
       "      <td>-0.473813</td>\n",
       "    </tr>\n",
       "    <tr>\n",
       "      <th>2</th>\n",
       "      <td>20.0</td>\n",
       "      <td>0.113208</td>\n",
       "      <td>-0.547272</td>\n",
       "    </tr>\n",
       "    <tr>\n",
       "      <th>3</th>\n",
       "      <td>23.0</td>\n",
       "      <td>0.169811</td>\n",
       "      <td>-0.326894</td>\n",
       "    </tr>\n",
       "    <tr>\n",
       "      <th>4</th>\n",
       "      <td>25.0</td>\n",
       "      <td>0.207547</td>\n",
       "      <td>-0.179975</td>\n",
       "    </tr>\n",
       "    <tr>\n",
       "      <th>5</th>\n",
       "      <td>24.0</td>\n",
       "      <td>0.188679</td>\n",
       "      <td>-0.253435</td>\n",
       "    </tr>\n",
       "    <tr>\n",
       "      <th>6</th>\n",
       "      <td>25.0</td>\n",
       "      <td>0.207547</td>\n",
       "      <td>-0.179975</td>\n",
       "    </tr>\n",
       "    <tr>\n",
       "      <th>7</th>\n",
       "      <td>25.0</td>\n",
       "      <td>0.207547</td>\n",
       "      <td>-0.179975</td>\n",
       "    </tr>\n",
       "    <tr>\n",
       "      <th>8</th>\n",
       "      <td>65.0</td>\n",
       "      <td>0.962264</td>\n",
       "      <td>2.758397</td>\n",
       "    </tr>\n",
       "    <tr>\n",
       "      <th>9</th>\n",
       "      <td>14.0</td>\n",
       "      <td>0.000000</td>\n",
       "      <td>-0.988028</td>\n",
       "    </tr>\n",
       "    <tr>\n",
       "      <th>10</th>\n",
       "      <td>21.0</td>\n",
       "      <td>0.132075</td>\n",
       "      <td>-0.473813</td>\n",
       "    </tr>\n",
       "    <tr>\n",
       "      <th>11</th>\n",
       "      <td>25.0</td>\n",
       "      <td>0.207547</td>\n",
       "      <td>-0.179975</td>\n",
       "    </tr>\n",
       "    <tr>\n",
       "      <th>12</th>\n",
       "      <td>21.0</td>\n",
       "      <td>0.132075</td>\n",
       "      <td>-0.473813</td>\n",
       "    </tr>\n",
       "    <tr>\n",
       "      <th>13</th>\n",
       "      <td>23.0</td>\n",
       "      <td>0.169811</td>\n",
       "      <td>-0.326894</td>\n",
       "    </tr>\n",
       "    <tr>\n",
       "      <th>14</th>\n",
       "      <td>23.0</td>\n",
       "      <td>0.169811</td>\n",
       "      <td>-0.326894</td>\n",
       "    </tr>\n",
       "    <tr>\n",
       "      <th>15</th>\n",
       "      <td>21.0</td>\n",
       "      <td>0.132075</td>\n",
       "      <td>-0.473813</td>\n",
       "    </tr>\n",
       "    <tr>\n",
       "      <th>16</th>\n",
       "      <td>32.0</td>\n",
       "      <td>0.339623</td>\n",
       "      <td>0.334240</td>\n",
       "    </tr>\n",
       "    <tr>\n",
       "      <th>17</th>\n",
       "      <td>67.0</td>\n",
       "      <td>1.000000</td>\n",
       "      <td>2.905316</td>\n",
       "    </tr>\n",
       "    <tr>\n",
       "      <th>18</th>\n",
       "      <td>25.0</td>\n",
       "      <td>0.207547</td>\n",
       "      <td>-0.179975</td>\n",
       "    </tr>\n",
       "    <tr>\n",
       "      <th>19</th>\n",
       "      <td>26.0</td>\n",
       "      <td>0.226415</td>\n",
       "      <td>-0.106516</td>\n",
       "    </tr>\n",
       "  </tbody>\n",
       "</table>\n",
       "</div>"
      ],
      "text/plain": [
       "    Student Ages  normalization  standardization\n",
       "0           23.0       0.169811        -0.326894\n",
       "1           21.0       0.132075        -0.473813\n",
       "2           20.0       0.113208        -0.547272\n",
       "3           23.0       0.169811        -0.326894\n",
       "4           25.0       0.207547        -0.179975\n",
       "5           24.0       0.188679        -0.253435\n",
       "6           25.0       0.207547        -0.179975\n",
       "7           25.0       0.207547        -0.179975\n",
       "8           65.0       0.962264         2.758397\n",
       "9           14.0       0.000000        -0.988028\n",
       "10          21.0       0.132075        -0.473813\n",
       "11          25.0       0.207547        -0.179975\n",
       "12          21.0       0.132075        -0.473813\n",
       "13          23.0       0.169811        -0.326894\n",
       "14          23.0       0.169811        -0.326894\n",
       "15          21.0       0.132075        -0.473813\n",
       "16          32.0       0.339623         0.334240\n",
       "17          67.0       1.000000         2.905316\n",
       "18          25.0       0.207547        -0.179975\n",
       "19          26.0       0.226415        -0.106516"
      ]
     },
     "execution_count": 132,
     "metadata": {},
     "output_type": "execute_result"
    }
   ],
   "source": [
    "df"
   ]
  },
  {
   "cell_type": "code",
   "execution_count": 135,
   "id": "a92e7ab1",
   "metadata": {},
   "outputs": [],
   "source": [
    "n_scaler = MinMaxScaler()\n",
    "X_train = n_scaler.fit_transform(X_train)\n",
    "X_test = n_scaler.transform(X_test)"
   ]
  },
  {
   "cell_type": "code",
   "execution_count": 138,
   "id": "9fe6a62a",
   "metadata": {},
   "outputs": [],
   "source": [
    "X_train, X_test, y_train, y_test = train_test_split(X_final,y_final,test_size=0.33,random_state=0)"
   ]
  },
  {
   "cell_type": "code",
   "execution_count": 140,
   "id": "2c4ddfd4",
   "metadata": {},
   "outputs": [],
   "source": [
    "s_scaler = StandardScaler()\n",
    "X_train = s_scaler.fit_transform(X_train)\n",
    "X_test = s_scaler.transform(X_test)"
   ]
  },
  {
   "cell_type": "code",
   "execution_count": null,
   "id": "e5c8d4dd",
   "metadata": {},
   "outputs": [],
   "source": []
  }
 ],
 "metadata": {
  "kernelspec": {
   "display_name": "Python 3 (ipykernel)",
   "language": "python",
   "name": "python3"
  },
  "language_info": {
   "codemirror_mode": {
    "name": "ipython",
    "version": 3
   },
   "file_extension": ".py",
   "mimetype": "text/x-python",
   "name": "python",
   "nbconvert_exporter": "python",
   "pygments_lexer": "ipython3",
   "version": "3.10.4"
  },
  "latex_envs": {
   "LaTeX_envs_menu_present": true,
   "autoclose": false,
   "autocomplete": true,
   "bibliofile": "biblio.bib",
   "cite_by": "apalike",
   "current_citInitial": 1,
   "eqLabelWithNumbers": true,
   "eqNumInitial": 1,
   "hotkeys": {
    "equation": "Ctrl-E",
    "itemize": "Ctrl-I"
   },
   "labels_anchors": false,
   "latex_user_defs": false,
   "report_style_numbering": false,
   "user_envs_cfg": false
  }
 },
 "nbformat": 4,
 "nbformat_minor": 5
}
